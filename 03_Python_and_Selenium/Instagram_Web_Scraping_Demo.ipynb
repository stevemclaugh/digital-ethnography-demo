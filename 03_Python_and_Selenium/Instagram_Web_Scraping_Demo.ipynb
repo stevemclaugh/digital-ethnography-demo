{
 "cells": [
  {
   "cell_type": "markdown",
   "id": "5d75c9ee",
   "metadata": {},
   "source": [
    "# 📸 Instagram web scraping demo 📸"
   ]
  },
  {
   "cell_type": "markdown",
   "id": "0d76ee27",
   "metadata": {},
   "source": [
    "### macOS installation instructions\n",
    "\n",
    "1. Go to https://brew.sh and install the Homebrew package manager.\n",
    "\n",
    "2. Run the following commands in the terminal to install Python, Selenium, and GeckoDriver.\n",
    "\n",
    "    `brew install python3`\n",
    "\n",
    "    `python3 pip -m install selenium`\n",
    "\n",
    "    `brew install geckodriver`"
   ]
  },
  {
   "cell_type": "code",
   "execution_count": 1,
   "id": "060d1f58",
   "metadata": {},
   "outputs": [],
   "source": [
    "import os\n",
    "import csv\n",
    "import random\n",
    "from selenium import webdriver\n",
    "import time\n",
    "\n",
    "driver = webdriver.Firefox()\n",
    "\n",
    "## Future selenium import code:\n",
    "#import org.openqa.selenium.By;\n",
    "#import org.openqa.selenium.WebDriver;\n",
    "#import org.openqa.selenium.WebElement;"
   ]
  },
  {
   "cell_type": "code",
   "execution_count": 2,
   "id": "8126e0de",
   "metadata": {},
   "outputs": [],
   "source": [
    "## Ignore deprecation warnings for this session\n",
    "import warnings\n",
    "warnings.filterwarnings('ignore')"
   ]
  },
  {
   "cell_type": "code",
   "execution_count": 4,
   "id": "78f540e4",
   "metadata": {},
   "outputs": [],
   "source": [
    "## Load a web page\n",
    "driver.get(\"https://instagram.com/iffybooks\")\n"
   ]
  },
  {
   "cell_type": "code",
   "execution_count": 5,
   "id": "6f01bb6b",
   "metadata": {},
   "outputs": [],
   "source": [
    "## Manually log into an Instagram account before proceeding\n",
    "driver.get(\"https://www.instagram.com/accounts/login\")\n"
   ]
  },
  {
   "cell_type": "code",
   "execution_count": 6,
   "id": "3277a9d0",
   "metadata": {},
   "outputs": [],
   "source": [
    "## Load an Instagram user profile\n",
    "driver.get(\"https://instagram.com/iffybooks\")\n"
   ]
  },
  {
   "cell_type": "code",
   "execution_count": 7,
   "id": "4369b937",
   "metadata": {},
   "outputs": [
    {
     "data": {
      "text/plain": [
       "[<selenium.webdriver.remote.webelement.WebElement (session=\"8eb9ac52-78bd-4bad-8421-c8e70c2f2188\", element=\"b8025368-7e0d-4e0a-8255-51e06a02a519\")>]"
      ]
     },
     "execution_count": 7,
     "metadata": {},
     "output_type": "execute_result"
    }
   ],
   "source": [
    "## Use an XPath query to find the follower link\n",
    "driver.find_elements_by_xpath(\"//a[contains(@href,'followers')]\")\n"
   ]
  },
  {
   "cell_type": "code",
   "execution_count": 8,
   "id": "aa638f5d",
   "metadata": {},
   "outputs": [
    {
     "data": {
      "text/plain": [
       "'<div class=\"_7UhW9    vy6Bb     MMzan   KV-D4          uL8Hv        T0kll \"><span class=\"g47SY \" title=\"2,596\">2,596</span> followers</div>'"
      ]
     },
     "execution_count": 8,
     "metadata": {},
     "output_type": "execute_result"
    }
   ],
   "source": [
    "## Get the link object's inner HTML code\n",
    "driver.find_elements_by_xpath(\"//a[contains(@href,'followers')]\")[0].get_attribute('innerHTML')\n"
   ]
  },
  {
   "cell_type": "code",
   "execution_count": 9,
   "id": "56625cad",
   "metadata": {},
   "outputs": [
    {
     "data": {
      "text/plain": [
       "'2,596'"
      ]
     },
     "execution_count": 9,
     "metadata": {},
     "output_type": "execute_result"
    }
   ],
   "source": [
    "## Modify XPath query to retrieve the number of followers as a string\n",
    "driver.find_elements_by_xpath(\"//a[contains(@href,'followers')]//span\")[0].get_attribute('innerHTML')\n"
   ]
  },
  {
   "cell_type": "code",
   "execution_count": 10,
   "id": "75955739",
   "metadata": {},
   "outputs": [
    {
     "name": "stdout",
     "output_type": "stream",
     "text": [
      "2596\n"
     ]
    }
   ],
   "source": [
    "## Convert number of followers to an integer\n",
    "\n",
    "number_of_followers = int(driver.find_elements_by_xpath(\"//a[contains(@href,'followers')]//span\")[0].get_attribute('innerHTML').replace(',',''))\n",
    "\n",
    "print(number_of_followers)\n"
   ]
  },
  {
   "cell_type": "code",
   "execution_count": 11,
   "id": "a317c420",
   "metadata": {},
   "outputs": [],
   "source": [
    "## Create a list of Instagram accounts\n",
    "\n",
    "instagram_user_urls = [\"https://www.instagram.com/7480jyoti/\", \"https://www.instagram.com/verma.1.2.3.4/\", \\\n",
    "                  \"https://www.instagram.com/shoibkhan212/\", \"https://www.instagram.com/radhi_ka4823/\", \\\n",
    "                  \"https://www.instagram.com/cool.boy2603/\", \"https://www.instagram.com/anab.el2257/\", \\\n",
    "                  \"https://www.instagram.com/edits_de_todo_267/\", \"https://www.instagram.com/ltr7555/\", \\\n",
    "                  \"https://www.instagram.com/rohit67582/\", \"https://www.instagram.com/jaymachamunda2021/\", \\\n",
    "                  \"https://www.instagram.com/vsidhu1238/\", \"https://www.instagram.com/tiffane_nicoly9/\", \\\n",
    "                  \"https://www.instagram.com/gudu3505/\", \"https://www.instagram.com/pat.el3830/\", \\\n",
    "                  \"https://www.instagram.com/mahmood.44377/\", \"https://www.instagram.com/arsh_deep7011/\", \n",
    "                  \"https://www.instagram.com/karis_hma2556/\"] \n",
    "\n",
    "## Shuffle the list of accounts\n",
    "random.shuffle(instagram_user_urls)\n"
   ]
  },
  {
   "cell_type": "code",
   "execution_count": 12,
   "id": "c88df10e",
   "metadata": {},
   "outputs": [],
   "source": [
    "## Create a dictionary to store user data\n",
    "instagram_user_dict = {}\n"
   ]
  },
  {
   "cell_type": "code",
   "execution_count": 13,
   "id": "23397910",
   "metadata": {},
   "outputs": [
    {
     "name": "stdout",
     "output_type": "stream",
     "text": [
      "radhi_ka4823\n",
      "Followers: 13\n",
      "Following: 6889\n",
      "\n",
      "gudu3505\n",
      "Followers: 83\n",
      "Following: 6739\n",
      "\n",
      "ltr7555\n",
      "Followers: 26\n",
      "Following: 6409\n",
      "\n",
      "jaymachamunda2021\n",
      "Followers: 37\n",
      "Following: 6138\n",
      "\n",
      "rohit67582\n",
      "Followers: 10\n",
      "Following: 6441\n",
      "\n",
      "vsidhu1238\n",
      "Followers: 21\n",
      "Following: 7193\n",
      "\n",
      "poposarmi\n",
      "Followers: 23\n",
      "Following: 5873\n",
      "\n",
      "shoibkhan212\n",
      "Followers: 18\n",
      "Following: 6651\n",
      "\n",
      "anab.el2257\n",
      "Followers: 13\n",
      "Following: 7026\n",
      "\n",
      "cool.boy2603\n",
      "Followers: 20\n",
      "Following: 6102\n",
      "\n",
      "tiffane_nicoly9\n",
      "Followers: 30\n",
      "Following: 5331\n",
      "\n",
      "mahmood.44377\n",
      "Followers: 13\n",
      "Following: 5411\n",
      "\n",
      "verma.1.2.3.4\n",
      "Followers: 24\n",
      "Following: 6849\n",
      "\n",
      "karis_hma2556\n",
      "Followers: 1\n",
      "Following: 1196\n",
      "\n",
      "arsh_deep7011\n",
      "Followers: 56\n",
      "Following: 6876\n",
      "\n",
      "7480jyoti\n",
      "Followers: 16\n",
      "Following: 6767\n",
      "\n",
      "edits_de_todo_267\n",
      "Followers: 34\n",
      "Following: 7425\n",
      "\n",
      "pat.el3830\n",
      "Followers: 21\n",
      "Following: 7106\n",
      "\n"
     ]
    }
   ],
   "source": [
    "## Scrape follower and following numbers from each account in the list\n",
    "\n",
    "for instagram_user_url in instagram_user_urls:\n",
    "    \n",
    "    ## Extract username from URL\n",
    "    instagram_username = instagram_user_url.strip('/').split('/')[-1]\n",
    "    print(instagram_username)\n",
    "    \n",
    "    ## Load user profile\n",
    "    driver.get(instagram_user_url)\n",
    "    time.sleep(0.3)\n",
    "    \n",
    "    ## Extract number of followers from the page\n",
    "    try: number_of_followers = int(driver.find_elements_by_xpath(\"//a[contains(@href,'followers')]//span\")[0].get_attribute('innerHTML').replace(',',''))\n",
    "    except: number_of_followers = -1\n",
    "    print(f\"Followers: {number_of_followers}\")\n",
    "    \n",
    "    ## Extract number number following from the page\n",
    "    try: number_following = int(driver.find_elements_by_xpath(\"//a[contains(@href,'following')]//span\")[0].get_attribute('innerHTML').replace(',',''))\n",
    "    except: number_of_followers = -1\n",
    "    print(f\"Following: {number_following}\\n\")\n",
    "\n",
    "    ## Add follower and following data to the dictionary\n",
    "    instagram_user_dict[instagram_username] = [number_of_followers, number_following]\n",
    "    \n",
    "    time.sleep(5 + random.random()*3)\n"
   ]
  },
  {
   "cell_type": "code",
   "execution_count": 14,
   "id": "202e74d9",
   "metadata": {},
   "outputs": [
    {
     "name": "stdout",
     "output_type": "stream",
     "text": [
      "{'7480jyoti': [16, 6767],\n",
      " 'anab.el2257': [13, 7026],\n",
      " 'arsh_deep7011': [56, 6876],\n",
      " 'cool.boy2603': [20, 6102],\n",
      " 'edits_de_todo_267': [34, 7425],\n",
      " 'gudu3505': [83, 6739],\n",
      " 'jaymachamunda2021': [37, 6138],\n",
      " 'karis_hma2556': [1, 1196],\n",
      " 'ltr7555': [26, 6409],\n",
      " 'mahmood.44377': [13, 5411],\n",
      " 'pat.el3830': [21, 7106],\n",
      " 'poposarmi': [23, 5873],\n",
      " 'radhi_ka4823': [13, 6889],\n",
      " 'rohit67582': [10, 6441],\n",
      " 'shoibkhan212': [18, 6651],\n",
      " 'tiffane_nicoly9': [30, 5331],\n",
      " 'verma.1.2.3.4': [24, 6849],\n",
      " 'vsidhu1238': [21, 7193]}\n"
     ]
    }
   ],
   "source": [
    "## View data dictionary\n",
    "from pprint import pprint\n",
    "\n",
    "pprint(instagram_user_dict)"
   ]
  },
  {
   "cell_type": "code",
   "execution_count": null,
   "id": "b51dcf55",
   "metadata": {},
   "outputs": [],
   "source": []
  },
  {
   "cell_type": "code",
   "execution_count": null,
   "id": "d0695050",
   "metadata": {},
   "outputs": [],
   "source": []
  }
 ],
 "metadata": {
  "kernelspec": {
   "display_name": "Python 3 (ipykernel)",
   "language": "python",
   "name": "python3"
  },
  "language_info": {
   "codemirror_mode": {
    "name": "ipython",
    "version": 3
   },
   "file_extension": ".py",
   "mimetype": "text/x-python",
   "name": "python",
   "nbconvert_exporter": "python",
   "pygments_lexer": "ipython3",
   "version": "3.9.10"
  }
 },
 "nbformat": 4,
 "nbformat_minor": 5
}
